{
  "nbformat": 4,
  "nbformat_minor": 0,
  "metadata": {
    "colab": {
      "provenance": []
    },
    "kernelspec": {
      "name": "python3",
      "display_name": "Python 3"
    },
    "language_info": {
      "name": "python"
    }
  },
  "cells": [
    {
      "source": [
        "\n",
        "import os\n",
        "import sys\n",
        "from tempfile import NamedTemporaryFile\n",
        "from urllib.request import urlopen\n",
        "from urllib.parse import unquote, urlparse\n",
        "from urllib.error import HTTPError\n",
        "from zipfile import ZipFile\n",
        "import tarfile\n",
        "import shutil\n",
        "\n",
        "CHUNK_SIZE = 40960\n",
        "DATA_SOURCE_MAPPING = 'oral-cancer-lips-and-tongue-images:https%3A%2F%2Fstorage.googleapis.com%2Fkaggle-data-sets%2F908874%2F1541124%2Fbundle%2Farchive.zip%3FX-Goog-Algorithm%3DGOOG4-RSA-SHA256%26X-Goog-Credential%3Dgcp-kaggle-com%2540kaggle-161607.iam.gserviceaccount.com%252F20240429%252Fauto%252Fstorage%252Fgoog4_request%26X-Goog-Date%3D20240429T123124Z%26X-Goog-Expires%3D259200%26X-Goog-SignedHeaders%3Dhost%26X-Goog-Signature%3D18538cbcc09b5b2fc3285ff8ed7bcb433b1c149f461f23beaabf35271baa4e2b1f858e8f15e53f88520940851d9b79d70fdcdb483c67022b193da74cfb00050f9fd08ce775e4e9a9be464e31d30464304ffc84c96ccbb13be63ad574c8f3c42045228fe5bcc0f789ce0c2002cc6490a2eb3bee433790927ed139221068958f64cf8d53a925a5381d09bb1962b72bee01650d2f12e147d319a07bc728f1b6d1a5a0d51320aacd8e2602f59cba2ee0f0fb52705b44ad187f3f5b37e3042d8f8c04ce497c5854b5d93e4354e975509f03b2f17a8b5592a82821df07dda915cd8815dc73dba498e959e4f6f4175a1dfecdc421bf518f9da7a0c3999f80f371db7f8d'\n",
        "\n",
        "KAGGLE_INPUT_PATH='/kaggle/input'\n",
        "KAGGLE_WORKING_PATH='/kaggle/working'\n",
        "KAGGLE_SYMLINK='kaggle'\n",
        "\n",
        "!umount /kaggle/input/ 2> /dev/null\n",
        "shutil.rmtree('/kaggle/input', ignore_errors=True)\n",
        "os.makedirs(KAGGLE_INPUT_PATH, 0o777, exist_ok=True)\n",
        "os.makedirs(KAGGLE_WORKING_PATH, 0o777, exist_ok=True)\n",
        "\n",
        "try:\n",
        "  os.symlink(KAGGLE_INPUT_PATH, os.path.join(\"..\", 'input'), target_is_directory=True)\n",
        "except FileExistsError:\n",
        "  pass\n",
        "try:\n",
        "  os.symlink(KAGGLE_WORKING_PATH, os.path.join(\"..\", 'working'), target_is_directory=True)\n",
        "except FileExistsError:\n",
        "  pass\n",
        "\n",
        "for data_source_mapping in DATA_SOURCE_MAPPING.split(','):\n",
        "    directory, download_url_encoded = data_source_mapping.split(':')\n",
        "    download_url = unquote(download_url_encoded)\n",
        "    filename = urlparse(download_url).path\n",
        "    destination_path = os.path.join(KAGGLE_INPUT_PATH, directory)\n",
        "    try:\n",
        "        with urlopen(download_url) as fileres, NamedTemporaryFile() as tfile:\n",
        "            total_length = fileres.headers['content-length']\n",
        "            print(f'Downloading {directory}, {total_length} bytes compressed')\n",
        "            dl = 0\n",
        "            data = fileres.read(CHUNK_SIZE)\n",
        "            while len(data) > 0:\n",
        "                dl += len(data)\n",
        "                tfile.write(data)\n",
        "                done = int(50 * dl / int(total_length))\n",
        "                sys.stdout.write(f\"\\r[{'=' * done}{' ' * (50-done)}] {dl} bytes downloaded\")\n",
        "                sys.stdout.flush()\n",
        "                data = fileres.read(CHUNK_SIZE)\n",
        "            if filename.endswith('.zip'):\n",
        "              with ZipFile(tfile) as zfile:\n",
        "                zfile.extractall(destination_path)\n",
        "            else:\n",
        "              with tarfile.open(tfile.name) as tarfile:\n",
        "                tarfile.extractall(destination_path)\n",
        "            print(f'\\nDownloaded and uncompressed: {directory}')\n",
        "    except HTTPError as e:\n",
        "        print(f'Failed to load (likely expired) {download_url} to path {destination_path}')\n",
        "        continue\n",
        "    except OSError as e:\n",
        "        print(f'Failed to load {download_url} to path {destination_path}')\n",
        "        continue\n",
        "\n",
        "print('Data source import complete.')\n"
      ],
      "metadata": {
        "id": "fEgHY9SYcGFw",
        "colab": {
          "base_uri": "https://localhost:8080/"
        },
        "outputId": "f60525d5-4a9a-4a08-e298-6d5df9866577"
      },
      "cell_type": "code",
      "outputs": [
        {
          "output_type": "stream",
          "name": "stdout",
          "text": [
            "Downloading oral-cancer-lips-and-tongue-images, 29044168 bytes compressed\n",
            "[==================================================] 29044168 bytes downloaded\n",
            "Downloaded and uncompressed: oral-cancer-lips-and-tongue-images\n",
            "Data source import complete.\n"
          ]
        }
      ],
      "execution_count": null
    },
    {
      "cell_type": "code",
      "source": [
        "# Importing Necessary Libraries\n",
        "import cv2\n",
        "import os\n",
        "import shutil\n",
        "import math\n",
        "import random\n",
        "import numpy as np\n",
        "import pandas as pd\n",
        "import matplotlib.pyplot as plt\n",
        "from sklearn.metrics import mean_squared_error\n",
        "\n",
        "import warnings\n",
        "warnings.filterwarnings(\"ignore\")"
      ],
      "metadata": {
        "id": "xLazRqypJ4Ob"
      },
      "execution_count": null,
      "outputs": []
    },
    {
      "cell_type": "code",
      "source": [
        "# Function to remove Duplicate Images in the Dataset\n",
        "def findDelDuplImg(file_name , file_dir):\n",
        "    searchedImgPath = os.path.join(file_dir, file_name);\n",
        "    searchedImage = np.array(cv2.imread(searchedImgPath, 0));\n",
        "    # Start iterate over all images\n",
        "    for cmpImageName in os.listdir(file_dir):\n",
        "        if cmpImageName != file_name:\n",
        "            # If name is different\n",
        "            try:\n",
        "                # Concatenate path to image\n",
        "                cmpImagePath = os.path.join(file_dir, cmpImageName);\n",
        "                # Open image to be compared\n",
        "                cmpImage = np.array(cv2.imread(cmpImagePath, 0))\n",
        "                # Count root mean square between both images (RMS)\n",
        "                rms = math.sqrt(mean_squared_error(searchedImage, cmpImage))\n",
        "            except:\n",
        "                continue\n",
        "            # If RMS is smaller than 3 - this means that images are similar or the same\n",
        "            if rms < 3:\n",
        "                # Delete Same Image in Dir\n",
        "                os.remove(cmpImagePath);\n",
        "\n",
        "# Function for Image preprocessing\n",
        "def processDataset(dataset_src, dataset_dest):\n",
        "    # Making a Copy of Dataset\n",
        "    shutil.copytree(src, dest)\n",
        "    for folder in os.listdir(dest):\n",
        "        for (index, file) in enumerate(os.listdir(os.path.join(dest, folder)), start = 1):\n",
        "            filename = f'img_{folder}_{index}.jpg';\n",
        "            img_src = os.path.join(dest, folder, file);\n",
        "            img_des = os.path.join(dest, folder, filename);\n",
        "            # Preprocess the Images\n",
        "            img = cv2.imread(img_src);\n",
        "            img = cv2.resize(img, (256, 256));\n",
        "            img = cv2.copyMakeBorder(img, 2, 2, 2, 2, cv2.BORDER_CONSTANT, value=0);\n",
        "            img = cv2.blur(img, (2, 2));\n",
        "            cv2.imwrite(img_des ,img);\n",
        "            os.remove(img_src);\n",
        "        for file in os.listdir(os.path.join(dest, folder)):\n",
        "                # Find duplicated images and delete duplicates.\n",
        "                findDelDuplImg(file, os.path.join(dest, folder));\n",
        "\n",
        "# Source Location for Dataset\n",
        "src = '../input/oral-cancer-lips-and-tongue-images/OralCancer';\n",
        "# Destination Location for Dataset\n",
        "dest = './OralCancer';\n",
        "# Image preprocessing\n",
        "processDataset(src, dest);"
      ],
      "metadata": {
        "execution": {
          "iopub.status.busy": "2024-04-28T15:06:45.79661Z",
          "iopub.execute_input": "2024-04-28T15:06:45.796878Z",
          "iopub.status.idle": "2024-04-28T15:06:57.578594Z",
          "shell.execute_reply.started": "2024-04-28T15:06:45.796846Z",
          "shell.execute_reply": "2024-04-28T15:06:57.577536Z"
        },
        "trusted": true,
        "id": "LfePcOzYcGFx"
      },
      "execution_count": null,
      "outputs": []
    },
    {
      "cell_type": "code",
      "source": [
        "def GetDatasetSize(path):\n",
        "    num_of_image = {}\n",
        "    for folder in os.listdir(path):\n",
        "        # Counting the Number of Files in the Folder\n",
        "        num_of_image[folder] = len(os.listdir(os.path.join(path, folder)));\n",
        "    return num_of_image;\n",
        "\n",
        "path = \"./OralCancer\"\n",
        "DatasetSize = GetDatasetSize(path);\n",
        "print(DatasetSize);"
      ],
      "metadata": {
        "execution": {
          "iopub.status.busy": "2024-04-28T15:06:57.580048Z",
          "iopub.execute_input": "2024-04-28T15:06:57.580486Z",
          "iopub.status.idle": "2024-04-28T15:06:57.589729Z",
          "shell.execute_reply.started": "2024-04-28T15:06:57.580439Z",
          "shell.execute_reply": "2024-04-28T15:06:57.588727Z"
        },
        "trusted": true,
        "id": "wae00LT6cGFx",
        "outputId": "69de0424-dfa2-44b3-9a64-0c32f3b588dc",
        "colab": {
          "base_uri": "https://localhost:8080/"
        }
      },
      "execution_count": null,
      "outputs": [
        {
          "output_type": "stream",
          "name": "stdout",
          "text": [
            "{'cancer': 64, 'non-cancer': 44}\n"
          ]
        }
      ]
    },
    {
      "cell_type": "code",
      "source": [
        "# Function for Creating Train / Validation / Test folders (One time use Only)\n",
        "\n",
        "def TrainValTestSplit(root_dir, classes_dir, val_ratio = 0.15, test_ratio = 0.15):\n",
        "    for cls in classes_dir:\n",
        "        # Creating Split Folders\n",
        "        os.makedirs('train/' + cls)\n",
        "        os.makedirs('val/' + cls)\n",
        "        os.makedirs('test/' + cls)\n",
        "\n",
        "        # Folder to copy images from\n",
        "        src = root_dir + cls\n",
        "\n",
        "        # Storing the Filenames\n",
        "        allFileNames = os.listdir(src)\n",
        "        np.random.shuffle(allFileNames)\n",
        "        # Spliting the Files in the Given ratio\n",
        "        train_FileNames, val_FileNames, test_FileNames = np.split(np.array(allFileNames), [int(len(allFileNames)* (1 - (val_ratio + test_ratio))), int(len(allFileNames)* (1 - test_ratio))])\n",
        "\n",
        "        train_FileNames = [src+'/'+ name for name in train_FileNames.tolist()]\n",
        "        val_FileNames = [src+'/' + name for name in val_FileNames.tolist()]\n",
        "        test_FileNames = [src+'/' + name for name in test_FileNames.tolist()]\n",
        "\n",
        "        # Printing the Split Details\n",
        "        print(cls.upper(),':')\n",
        "        print('Total images: ', len(allFileNames))\n",
        "        print('Training: ', len(train_FileNames))\n",
        "        print('Validation: ', len(val_FileNames))\n",
        "        print('Testing: ', len(test_FileNames))\n",
        "\n",
        "        # Copy-pasting images\n",
        "        for name in train_FileNames:\n",
        "            shutil.copy(name, 'train/' + cls)\n",
        "\n",
        "        for name in val_FileNames:\n",
        "            shutil.copy(name, 'val/' + cls)\n",
        "\n",
        "        for name in test_FileNames:\n",
        "            shutil.copy(name, 'test/' + cls)\n",
        "        print();\n",
        "\n",
        "# Preforming Train / Validation / Test Split\n",
        "root_dir = './OralCancer/'              # Dataset Root Folder\n",
        "classes_dir = ['cancer', 'non-cancer']  # Classes\n",
        "TrainValTestSplit(root_dir, classes_dir);"
      ],
      "metadata": {
        "execution": {
          "iopub.status.busy": "2024-04-28T15:06:57.592005Z",
          "iopub.execute_input": "2024-04-28T15:06:57.592347Z",
          "iopub.status.idle": "2024-04-28T15:06:57.633552Z",
          "shell.execute_reply.started": "2024-04-28T15:06:57.592308Z",
          "shell.execute_reply": "2024-04-28T15:06:57.632325Z"
        },
        "trusted": true,
        "id": "rgbbJ4MFcGFy",
        "outputId": "a5871408-fe5f-4400-f586-6e099939f641",
        "colab": {
          "base_uri": "https://localhost:8080/"
        }
      },
      "execution_count": null,
      "outputs": [
        {
          "output_type": "stream",
          "name": "stdout",
          "text": [
            "CANCER :\n",
            "Total images:  64\n",
            "Training:  44\n",
            "Validation:  10\n",
            "Testing:  10\n",
            "\n",
            "NON-CANCER :\n",
            "Total images:  44\n",
            "Training:  30\n",
            "Validation:  7\n",
            "Testing:  7\n",
            "\n"
          ]
        }
      ]
    },
    {
      "cell_type": "code",
      "source": [
        "# Importing Keras for Image Classification\n",
        "import keras\n",
        "from keras.layers import Dense,Conv2D, Flatten, MaxPool2D, Dropout\n",
        "from keras.models import Sequential\n",
        "from keras.preprocessing import image\n",
        "from keras.callbacks import ModelCheckpoint\n",
        "from keras.models import load_model"
      ],
      "metadata": {
        "execution": {
          "iopub.status.busy": "2024-04-28T15:06:57.634878Z",
          "iopub.execute_input": "2024-04-28T15:06:57.635604Z",
          "iopub.status.idle": "2024-04-28T15:07:04.326357Z",
          "shell.execute_reply.started": "2024-04-28T15:06:57.635555Z",
          "shell.execute_reply": "2024-04-28T15:07:04.325281Z"
        },
        "trusted": true,
        "id": "uHHxdOqlcGFy"
      },
      "execution_count": null,
      "outputs": []
    },
    {
      "cell_type": "code",
      "source": [
        "# CNN Model\n",
        "\n",
        "model = Sequential()\n",
        "\n",
        "# Convolutional Layer with input shape (256,256,3)\n",
        "model.add(Conv2D(filters=32, kernel_size= (3,3), activation= 'relu', input_shape=(256,256,3)) )\n",
        "\n",
        "model.add(Conv2D(filters=32, kernel_size=(3,3), activation='relu' ))\n",
        "model.add(MaxPool2D(pool_size=(2,2)))\n",
        "\n",
        "model.add(Conv2D(filters=64, kernel_size=(3,3), activation='relu' ))\n",
        "model.add(MaxPool2D(pool_size=(2,2)))\n",
        "\n",
        "model.add(Conv2D(filters=128, kernel_size=(3,3), activation='relu' ))\n",
        "model.add(MaxPool2D(pool_size=(2,2)))\n",
        "\n",
        "model.add(Dropout(rate=0.25))\n",
        "\n",
        "model.add(Flatten())\n",
        "model.add(Dense(units=64, activation='relu'))\n",
        "model.add(Dropout(rate=0.25))\n",
        "model.add(Dense(units=1, activation='sigmoid'))\n",
        "\n",
        "model.compile(optimizer='adam', loss='binary_crossentropy', metrics=['accuracy']  )\n",
        "\n",
        "model.summary()"
      ],
      "metadata": {
        "execution": {
          "iopub.status.busy": "2024-04-28T15:07:04.327757Z",
          "iopub.execute_input": "2024-04-28T15:07:04.328043Z",
          "iopub.status.idle": "2024-04-28T15:07:04.816261Z",
          "shell.execute_reply.started": "2024-04-28T15:07:04.328006Z",
          "shell.execute_reply": "2024-04-28T15:07:04.815207Z"
        },
        "trusted": true,
        "id": "90UGCuTccGFy",
        "outputId": "a680c51f-43c5-4666-ba82-289b9f34a9a6",
        "colab": {
          "base_uri": "https://localhost:8080/"
        }
      },
      "execution_count": null,
      "outputs": [
        {
          "output_type": "stream",
          "name": "stdout",
          "text": [
            "Model: \"sequential\"\n",
            "_________________________________________________________________\n",
            " Layer (type)                Output Shape              Param #   \n",
            "=================================================================\n",
            " conv2d (Conv2D)             (None, 254, 254, 32)      896       \n",
            "                                                                 \n",
            " conv2d_1 (Conv2D)           (None, 252, 252, 32)      9248      \n",
            "                                                                 \n",
            " max_pooling2d (MaxPooling2  (None, 126, 126, 32)      0         \n",
            " D)                                                              \n",
            "                                                                 \n",
            " conv2d_2 (Conv2D)           (None, 124, 124, 64)      18496     \n",
            "                                                                 \n",
            " max_pooling2d_1 (MaxPoolin  (None, 62, 62, 64)        0         \n",
            " g2D)                                                            \n",
            "                                                                 \n",
            " conv2d_3 (Conv2D)           (None, 60, 60, 128)       73856     \n",
            "                                                                 \n",
            " max_pooling2d_2 (MaxPoolin  (None, 30, 30, 128)       0         \n",
            " g2D)                                                            \n",
            "                                                                 \n",
            " dropout (Dropout)           (None, 30, 30, 128)       0         \n",
            "                                                                 \n",
            " flatten (Flatten)           (None, 115200)            0         \n",
            "                                                                 \n",
            " dense (Dense)               (None, 64)                7372864   \n",
            "                                                                 \n",
            " dropout_1 (Dropout)         (None, 64)                0         \n",
            "                                                                 \n",
            " dense_1 (Dense)             (None, 1)                 65        \n",
            "                                                                 \n",
            "=================================================================\n",
            "Total params: 7475425 (28.52 MB)\n",
            "Trainable params: 7475425 (28.52 MB)\n",
            "Non-trainable params: 0 (0.00 Byte)\n",
            "_________________________________________________________________\n"
          ]
        }
      ]
    },
    {
      "cell_type": "code",
      "source": [
        "# Expand the size of dataset with new transformed images from the original dataset using ImageDataGenerator.\n",
        "train_datagen = image.ImageDataGenerator(zoom_range = 0.2, shear_range = 0.2 , rescale = 1./255 , horizontal_flip=True)\n",
        "val_datagen = image.ImageDataGenerator(rescale = 1./255)\n",
        "test_datagen = image.ImageDataGenerator(rescale = 1./255)"
      ],
      "metadata": {
        "execution": {
          "iopub.status.busy": "2024-04-28T15:07:04.817765Z",
          "iopub.execute_input": "2024-04-28T15:07:04.818111Z",
          "iopub.status.idle": "2024-04-28T15:07:04.82488Z",
          "shell.execute_reply.started": "2024-04-28T15:07:04.818058Z",
          "shell.execute_reply": "2024-04-28T15:07:04.823817Z"
        },
        "trusted": true,
        "id": "2wrfzibgcGFz"
      },
      "execution_count": null,
      "outputs": []
    },
    {
      "cell_type": "code",
      "source": [
        "train_data = train_datagen.flow_from_directory(directory= \"./train\", target_size=(256,256), batch_size=32, class_mode = 'binary')"
      ],
      "metadata": {
        "execution": {
          "iopub.status.busy": "2024-04-28T15:07:04.826599Z",
          "iopub.execute_input": "2024-04-28T15:07:04.826879Z",
          "iopub.status.idle": "2024-04-28T15:07:05.382061Z",
          "shell.execute_reply.started": "2024-04-28T15:07:04.826845Z",
          "shell.execute_reply": "2024-04-28T15:07:05.381087Z"
        },
        "trusted": true,
        "id": "sKgkKz5rcGFz",
        "outputId": "eade3efe-a744-4fc8-a05d-e2b1e145861f",
        "colab": {
          "base_uri": "https://localhost:8080/"
        }
      },
      "execution_count": null,
      "outputs": [
        {
          "output_type": "stream",
          "name": "stdout",
          "text": [
            "Found 74 images belonging to 2 classes.\n"
          ]
        }
      ]
    },
    {
      "cell_type": "code",
      "source": [
        "train_data.class_indices"
      ],
      "metadata": {
        "execution": {
          "iopub.status.busy": "2024-04-28T15:07:05.383361Z",
          "iopub.execute_input": "2024-04-28T15:07:05.38364Z",
          "iopub.status.idle": "2024-04-28T15:07:05.39563Z",
          "shell.execute_reply.started": "2024-04-28T15:07:05.383602Z",
          "shell.execute_reply": "2024-04-28T15:07:05.394519Z"
        },
        "trusted": true,
        "id": "v4Dmn9UlcGFz",
        "outputId": "ca56833c-b78e-44b4-983d-4ab6b719b890",
        "colab": {
          "base_uri": "https://localhost:8080/"
        }
      },
      "execution_count": null,
      "outputs": [
        {
          "output_type": "execute_result",
          "data": {
            "text/plain": [
              "{'cancer': 0, 'non-cancer': 1}"
            ]
          },
          "metadata": {},
          "execution_count": 10
        }
      ]
    },
    {
      "cell_type": "code",
      "source": [
        "test_data = test_datagen.flow_from_directory(directory= \"./test\", target_size=(256,256), batch_size=32, class_mode = 'binary')"
      ],
      "metadata": {
        "execution": {
          "iopub.status.busy": "2024-04-28T15:07:05.51495Z",
          "iopub.execute_input": "2024-04-28T15:07:05.515389Z",
          "iopub.status.idle": "2024-04-28T15:07:05.624123Z",
          "shell.execute_reply.started": "2024-04-28T15:07:05.515348Z",
          "shell.execute_reply": "2024-04-28T15:07:05.62307Z"
        },
        "trusted": true,
        "id": "HFnOJGMLf_Wx",
        "outputId": "7b518b77-5c70-48be-e529-b34630c685dd",
        "colab": {
          "base_uri": "https://localhost:8080/"
        }
      },
      "execution_count": null,
      "outputs": [
        {
          "output_type": "stream",
          "name": "stdout",
          "text": [
            "Found 17 images belonging to 2 classes.\n"
          ]
        }
      ]
    },
    {
      "cell_type": "code",
      "source": [
        "val_data = val_datagen.flow_from_directory(directory= \"./val\", target_size=(256,256), batch_size=32, class_mode = 'binary')"
      ],
      "metadata": {
        "execution": {
          "iopub.status.busy": "2024-04-28T15:07:05.398842Z",
          "iopub.execute_input": "2024-04-28T15:07:05.399128Z",
          "iopub.status.idle": "2024-04-28T15:07:05.513431Z",
          "shell.execute_reply.started": "2024-04-28T15:07:05.399094Z",
          "shell.execute_reply": "2024-04-28T15:07:05.512521Z"
        },
        "trusted": true,
        "id": "1ppt2wDKcGFz",
        "outputId": "a85822e4-a035-455b-e988-c0da7a436278",
        "colab": {
          "base_uri": "https://localhost:8080/"
        }
      },
      "execution_count": null,
      "outputs": [
        {
          "output_type": "stream",
          "name": "stdout",
          "text": [
            "Found 17 images belonging to 2 classes.\n"
          ]
        }
      ]
    },
    {
      "cell_type": "code",
      "source": [
        "# Adding Model check point Callback\n",
        "mc = ModelCheckpoint(filepath=\"oral_cancer_best_model.hdf5\", monitor= 'val_accuracy', verbose= 1, save_best_only= True, mode = 'auto');\n",
        "call_back = [ mc ];"
      ],
      "metadata": {
        "execution": {
          "iopub.status.busy": "2024-04-28T15:07:05.625664Z",
          "iopub.execute_input": "2024-04-28T15:07:05.626016Z",
          "iopub.status.idle": "2024-04-28T15:07:05.632565Z",
          "shell.execute_reply.started": "2024-04-28T15:07:05.62597Z",
          "shell.execute_reply": "2024-04-28T15:07:05.631376Z"
        },
        "trusted": true,
        "id": "YMA8e4OucGFz"
      },
      "execution_count": null,
      "outputs": []
    },
    {
      "cell_type": "code",
      "source": [
        "# Fitting the Model\n",
        "cnn = model.fit(train_data,\n",
        "                  steps_per_epoch = 2,\n",
        "                  epochs = 10,\n",
        "                  validation_data = val_data,\n",
        "                  validation_steps = 1,\n",
        "                  callbacks = call_back )"
      ],
      "metadata": {
        "execution": {
          "iopub.status.busy": "2024-04-28T15:07:05.63436Z",
          "iopub.execute_input": "2024-04-28T15:07:05.634676Z",
          "iopub.status.idle": "2024-04-28T15:10:56.631623Z",
          "shell.execute_reply.started": "2024-04-28T15:07:05.63464Z",
          "shell.execute_reply": "2024-04-28T15:10:56.630621Z"
        },
        "trusted": true,
        "id": "cwmtIHVZcGFz",
        "outputId": "bf6b897e-3988-4aaf-bedd-c98d59e90e2e",
        "colab": {
          "base_uri": "https://localhost:8080/"
        }
      },
      "execution_count": null,
      "outputs": [
        {
          "output_type": "stream",
          "name": "stdout",
          "text": [
            "Epoch 1/10\n",
            "2/2 [==============================] - ETA: 0s - loss: 0.8580 - accuracy: 0.6250 \n",
            "Epoch 1: val_accuracy improved from -inf to 0.41176, saving model to oral_cancer_best_model.hdf5\n",
            "2/2 [==============================] - 26s 12s/step - loss: 0.8580 - accuracy: 0.6250 - val_loss: 1.8312 - val_accuracy: 0.4118\n",
            "Epoch 2/10\n",
            "2/2 [==============================] - ETA: 0s - loss: 1.7218 - accuracy: 0.3810 \n",
            "Epoch 2: val_accuracy improved from 0.41176 to 0.58824, saving model to oral_cancer_best_model.hdf5\n",
            "2/2 [==============================] - 14s 4s/step - loss: 1.7218 - accuracy: 0.3810 - val_loss: 0.7152 - val_accuracy: 0.5882\n",
            "Epoch 3/10\n",
            "2/2 [==============================] - ETA: 0s - loss: 0.6767 - accuracy: 0.6190\n",
            "Epoch 3: val_accuracy did not improve from 0.58824\n",
            "2/2 [==============================] - 15s 10s/step - loss: 0.6767 - accuracy: 0.6190 - val_loss: 0.7266 - val_accuracy: 0.5882\n",
            "Epoch 4/10\n",
            "2/2 [==============================] - ETA: 0s - loss: 0.6383 - accuracy: 0.6406 \n",
            "Epoch 4: val_accuracy did not improve from 0.58824\n",
            "2/2 [==============================] - 21s 11s/step - loss: 0.6383 - accuracy: 0.6406 - val_loss: 0.6858 - val_accuracy: 0.5882\n",
            "Epoch 5/10\n",
            "2/2 [==============================] - ETA: 0s - loss: 0.6626 - accuracy: 0.6190\n",
            "Epoch 5: val_accuracy did not improve from 0.58824\n",
            "2/2 [==============================] - 14s 11s/step - loss: 0.6626 - accuracy: 0.6190 - val_loss: 0.6931 - val_accuracy: 0.5882\n",
            "Epoch 6/10\n",
            "2/2 [==============================] - ETA: 0s - loss: 0.7368 - accuracy: 0.5952\n",
            "Epoch 6: val_accuracy did not improve from 0.58824\n",
            "2/2 [==============================] - 14s 10s/step - loss: 0.7368 - accuracy: 0.5952 - val_loss: 0.7296 - val_accuracy: 0.5882\n",
            "Epoch 7/10\n",
            "2/2 [==============================] - ETA: 0s - loss: 0.6588 - accuracy: 0.6250 \n",
            "Epoch 7: val_accuracy did not improve from 0.58824\n",
            "2/2 [==============================] - 22s 12s/step - loss: 0.6588 - accuracy: 0.6250 - val_loss: 0.6797 - val_accuracy: 0.5882\n",
            "Epoch 8/10\n",
            "2/2 [==============================] - ETA: 0s - loss: 0.6755 - accuracy: 0.5238\n",
            "Epoch 8: val_accuracy did not improve from 0.58824\n",
            "2/2 [==============================] - 22s 17s/step - loss: 0.6755 - accuracy: 0.5238 - val_loss: 0.6791 - val_accuracy: 0.5882\n",
            "Epoch 9/10\n",
            "2/2 [==============================] - ETA: 0s - loss: 0.6805 - accuracy: 0.5625 \n",
            "Epoch 9: val_accuracy did not improve from 0.58824\n",
            "2/2 [==============================] - 21s 10s/step - loss: 0.6805 - accuracy: 0.5625 - val_loss: 0.6793 - val_accuracy: 0.5882\n",
            "Epoch 10/10\n",
            "2/2 [==============================] - ETA: 0s - loss: 0.6669 - accuracy: 0.6190\n",
            "Epoch 10: val_accuracy did not improve from 0.58824\n",
            "2/2 [==============================] - 15s 11s/step - loss: 0.6669 - accuracy: 0.6190 - val_loss: 0.6913 - val_accuracy: 0.5882\n"
          ]
        }
      ]
    },
    {
      "cell_type": "code",
      "source": [
        "# Loading the Best Fit Model\n",
        "model = load_model(\"./oral_cancer_best_model.hdf5\")"
      ],
      "metadata": {
        "id": "qhzfE2mqdw87"
      },
      "execution_count": null,
      "outputs": []
    },
    {
      "cell_type": "code",
      "source": [
        "# Checking the Accuracy of the Model\n",
        "accuracy = model.evaluate_generator(generator= test_data)[1]\n",
        "print(f\"The accuracy of the model is = {accuracy*100} %\")"
      ],
      "metadata": {
        "colab": {
          "base_uri": "https://localhost:8080/"
        },
        "id": "a3n2HnX7dxEe",
        "outputId": "27089d05-2595-4f41-bd5e-2fb713418cae"
      },
      "execution_count": null,
      "outputs": [
        {
          "output_type": "stream",
          "name": "stdout",
          "text": [
            "The accuracy of the model is = 58.82353186607361 %\n"
          ]
        }
      ]
    },
    {
      "cell_type": "code",
      "source": [
        "h =  cnn.history\n",
        "h.keys()"
      ],
      "metadata": {
        "colab": {
          "base_uri": "https://localhost:8080/"
        },
        "id": "OD5Z6jcBdxNU",
        "outputId": "122b3f24-b285-4499-d411-7e91df7b464d"
      },
      "execution_count": null,
      "outputs": [
        {
          "output_type": "execute_result",
          "data": {
            "text/plain": [
              "dict_keys(['loss', 'accuracy', 'val_loss', 'val_accuracy'])"
            ]
          },
          "metadata": {},
          "execution_count": 17
        }
      ]
    },
    {
      "cell_type": "code",
      "source": [
        "# Ploting Accuracy In Training Set & Validation Set\n",
        "plt.plot(h['accuracy'])\n",
        "plt.plot(h['val_accuracy'] , c = \"red\")\n",
        "plt.title(\"acc vs v-acc\")\n",
        "plt.show()"
      ],
      "metadata": {
        "execution": {
          "iopub.status.busy": "2024-04-28T15:10:57.546425Z",
          "iopub.execute_input": "2024-04-28T15:10:57.546676Z",
          "iopub.status.idle": "2024-04-28T15:10:57.747464Z",
          "shell.execute_reply.started": "2024-04-28T15:10:57.546646Z",
          "shell.execute_reply": "2024-04-28T15:10:57.74646Z"
        },
        "trusted": true,
        "id": "MR3PU2yscGFz",
        "outputId": "a07ad109-0002-448a-9ceb-e5284516a72d",
        "colab": {
          "base_uri": "https://localhost:8080/",
          "height": 452
        }
      },
      "execution_count": null,
      "outputs": [
        {
          "output_type": "display_data",
          "data": {
            "text/plain": [
              "<Figure size 640x480 with 1 Axes>"
            ],
            "image/png": "[encoded data removed]"
          },
          "metadata": {}
        }
      ]
    },
    {
      "cell_type": "code",
      "source": [
        "# Ploting Loss In Training Set & Validation Set\n",
        "plt.plot(h['loss'])\n",
        "plt.plot(h['val_loss'] , c = \"red\")\n",
        "plt.title(\"loss vs v-loss\")\n",
        "plt.show()"
      ],
      "metadata": {
        "execution": {
          "iopub.status.busy": "2024-04-28T15:10:57.749009Z",
          "iopub.execute_input": "2024-04-28T15:10:57.749375Z",
          "iopub.status.idle": "2024-04-28T15:10:57.998315Z",
          "shell.execute_reply.started": "2024-04-28T15:10:57.749328Z",
          "shell.execute_reply": "2024-04-28T15:10:57.997405Z"
        },
        "trusted": true,
        "id": "B9HTr4RncGF0",
        "outputId": "29b52069-9680-4f66-f53d-b2a5a095ebad",
        "colab": {
          "base_uri": "https://localhost:8080/",
          "height": 452
        }
      },
      "execution_count": null,
      "outputs": [
        {
          "output_type": "display_data",
          "data": {
            "text/plain": [
              "<Figure size 640x480 with 1 Axes>"
            ],
            "image/png": "[encoded data removed]"
          },
          "metadata": {}
        }
      ]
    },
    {
      "cell_type": "code",
      "source": [
        "def cancerPrediction(path):\n",
        "    # Loading Image\n",
        "    img = image.load_img(path, target_size=(256,256))\n",
        "    # Normalizing Image\n",
        "    norm_img = image.img_to_array(img)/255\n",
        "    # Converting Image to Numpy Array\n",
        "    input_arr_img = np.array([norm_img])\n",
        "    # Getting Predictions\n",
        "    pred = (model.predict(input_arr_img) > 0.5).astype(int)[0][0]\n",
        "    # Printing Model Prediction\n",
        "    if pred == 0:\n",
        "        print(\"Cancer\")\n",
        "    else:\n",
        "        print(\"Non-Cancer\")\n",
        "\n",
        "# Path for the image to get predictions\n",
        "path = \"../input/oral-cancer-lips-and-tongue-images/OralCancer/cancer/01960a64-cfe8-444d-bbc5-575c15389a21.jpg\"\n",
        "cancerPrediction(path)"
      ],
      "metadata": {
        "execution": {
          "iopub.status.busy": "2024-04-28T15:10:57.999863Z",
          "iopub.execute_input": "2024-04-28T15:10:58.000159Z",
          "iopub.status.idle": "2024-04-28T15:10:58.266147Z",
          "shell.execute_reply.started": "2024-04-28T15:10:58.000123Z",
          "shell.execute_reply": "2024-04-28T15:10:58.265293Z"
        },
        "trusted": true,
        "id": "0rjILeoXcGF0",
        "outputId": "5b95cfab-e013-4c29-9d19-57ad175f80d2",
        "colab": {
          "base_uri": "https://localhost:8080/"
        }
      },
      "execution_count": null,
      "outputs": [
        {
          "output_type": "stream",
          "name": "stdout",
          "text": [
            "1/1 [==============================] - 0s 75ms/step\n",
            "Cancer\n"
          ]
        }
      ]
    },
    {
      "cell_type": "code",
      "source": [
        "cancerPrediction(\"/content/train/cancer/img_cancer_4.jpg\")\n"
      ],
      "metadata": {
        "colab": {
          "base_uri": "https://localhost:8080/"
        },
        "id": "l7CpZWPkg8PZ",
        "outputId": "e1827b68-ca97-4649-f787-4a2b85a414af"
      },
      "execution_count": null,
      "outputs": [
        {
          "output_type": "stream",
          "name": "stdout",
          "text": [
            "1/1 [==============================] - 0s 80ms/step\n",
            "Cancer\n"
          ]
        }
      ]
    }
  ]
}